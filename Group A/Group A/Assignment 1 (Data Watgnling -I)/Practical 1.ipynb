{
 "cells": [
  {
   "cell_type": "markdown",
   "id": "f5dbad24",
   "metadata": {},
   "source": [
    "Practical 1 :\n",
    "Data Wrangling, I \n",
    "Perform the following operations using Python on any open source dataset (e.g., data.csv) \n",
    "1. Import all the required Python Libraries. \n",
    "2. Locate an open source data from the web (e.g., https://www.kaggle.com). Provide a clear  \n",
    "            description of the data and its source (i.e., URL of the web site). \n",
    "3. Load the Dataset into pandas dataframe. \n",
    "4. Data Preprocessing: check for missing values in the data using pandas isnull(), describe() \n",
    "function to get some initial statistics. Provide variable descriptions. Types of variables etc. \n",
    "Check the dimensions of the data frame. \n",
    "5. Data Formatting and Data Normalization: Summarize the types of variables by checking \n",
    "the data types (i.e., character, numeric, integer, factor, and logical) of the variables in the \n",
    "data set. If variables are not in the correct data type, apply proper type conversions. \n",
    "6. Turn categorical variables into quantitative variables in Python. \n",
    " \n",
    "In addition to the codes and outputs, explain every operation that you do in the above steps and \n",
    "explain everything that you do to import/read/scrape the data set. "
   ]
  },
  {
   "cell_type": "code",
   "execution_count": 1,
   "id": "27ac909e",
   "metadata": {},
   "outputs": [],
   "source": [
    "import numpy as np\n",
    "import pandas as pd"
   ]
  },
  {
   "cell_type": "code",
   "execution_count": 2,
   "id": "fa311d81",
   "metadata": {},
   "outputs": [
    {
     "data": {
      "text/html": [
       "<div>\n",
       "<style scoped>\n",
       "    .dataframe tbody tr th:only-of-type {\n",
       "        vertical-align: middle;\n",
       "    }\n",
       "\n",
       "    .dataframe tbody tr th {\n",
       "        vertical-align: top;\n",
       "    }\n",
       "\n",
       "    .dataframe thead th {\n",
       "        text-align: right;\n",
       "    }\n",
       "</style>\n",
       "<table border=\"1\" class=\"dataframe\">\n",
       "  <thead>\n",
       "    <tr style=\"text-align: right;\">\n",
       "      <th></th>\n",
       "      <th>Province/State</th>\n",
       "      <th>Country/Region</th>\n",
       "      <th>Lat</th>\n",
       "      <th>Long</th>\n",
       "      <th>Date</th>\n",
       "      <th>Confirmed</th>\n",
       "      <th>Deaths</th>\n",
       "      <th>Recovered</th>\n",
       "      <th>Active</th>\n",
       "      <th>WHO Region</th>\n",
       "    </tr>\n",
       "  </thead>\n",
       "  <tbody>\n",
       "    <tr>\n",
       "      <th>0</th>\n",
       "      <td>NaN</td>\n",
       "      <td>Afghanistan</td>\n",
       "      <td>33.93911</td>\n",
       "      <td>67.709953</td>\n",
       "      <td>2020-01-22</td>\n",
       "      <td>0</td>\n",
       "      <td>0</td>\n",
       "      <td>0</td>\n",
       "      <td>0</td>\n",
       "      <td>Eastern Mediterranean</td>\n",
       "    </tr>\n",
       "    <tr>\n",
       "      <th>1</th>\n",
       "      <td>NaN</td>\n",
       "      <td>Albania</td>\n",
       "      <td>41.15330</td>\n",
       "      <td>20.168300</td>\n",
       "      <td>2020-01-22</td>\n",
       "      <td>0</td>\n",
       "      <td>0</td>\n",
       "      <td>0</td>\n",
       "      <td>0</td>\n",
       "      <td>Europe</td>\n",
       "    </tr>\n",
       "    <tr>\n",
       "      <th>2</th>\n",
       "      <td>NaN</td>\n",
       "      <td>Algeria</td>\n",
       "      <td>28.03390</td>\n",
       "      <td>1.659600</td>\n",
       "      <td>2020-01-22</td>\n",
       "      <td>0</td>\n",
       "      <td>0</td>\n",
       "      <td>0</td>\n",
       "      <td>0</td>\n",
       "      <td>Africa</td>\n",
       "    </tr>\n",
       "    <tr>\n",
       "      <th>3</th>\n",
       "      <td>NaN</td>\n",
       "      <td>Andorra</td>\n",
       "      <td>42.50630</td>\n",
       "      <td>1.521800</td>\n",
       "      <td>2020-01-22</td>\n",
       "      <td>0</td>\n",
       "      <td>0</td>\n",
       "      <td>0</td>\n",
       "      <td>0</td>\n",
       "      <td>Europe</td>\n",
       "    </tr>\n",
       "    <tr>\n",
       "      <th>4</th>\n",
       "      <td>NaN</td>\n",
       "      <td>Angola</td>\n",
       "      <td>-11.20270</td>\n",
       "      <td>17.873900</td>\n",
       "      <td>2020-01-22</td>\n",
       "      <td>0</td>\n",
       "      <td>0</td>\n",
       "      <td>0</td>\n",
       "      <td>0</td>\n",
       "      <td>Africa</td>\n",
       "    </tr>\n",
       "  </tbody>\n",
       "</table>\n",
       "</div>"
      ],
      "text/plain": [
       "  Province/State Country/Region       Lat       Long        Date  Confirmed  \\\n",
       "0            NaN    Afghanistan  33.93911  67.709953  2020-01-22          0   \n",
       "1            NaN        Albania  41.15330  20.168300  2020-01-22          0   \n",
       "2            NaN        Algeria  28.03390   1.659600  2020-01-22          0   \n",
       "3            NaN        Andorra  42.50630   1.521800  2020-01-22          0   \n",
       "4            NaN         Angola -11.20270  17.873900  2020-01-22          0   \n",
       "\n",
       "   Deaths  Recovered  Active             WHO Region  \n",
       "0       0          0       0  Eastern Mediterranean  \n",
       "1       0          0       0                 Europe  \n",
       "2       0          0       0                 Africa  \n",
       "3       0          0       0                 Europe  \n",
       "4       0          0       0                 Africa  "
      ]
     },
     "execution_count": 2,
     "metadata": {},
     "output_type": "execute_result"
    }
   ],
   "source": [
    "df=pd.read_csv('covid_19.csv')\n",
    "df.head()"
   ]
  },
  {
   "cell_type": "code",
   "execution_count": 3,
   "id": "fd321bae",
   "metadata": {},
   "outputs": [
    {
     "data": {
      "text/plain": [
       "Province/State    149189\n",
       "Country/Region         0\n",
       "Lat                 1546\n",
       "Long                1546\n",
       "Date                   0\n",
       "Confirmed              0\n",
       "Deaths                 0\n",
       "Recovered              0\n",
       "Active                 0\n",
       "WHO Region          2319\n",
       "dtype: int64"
      ]
     },
     "execution_count": 3,
     "metadata": {},
     "output_type": "execute_result"
    }
   ],
   "source": [
    "df.isnull().sum()"
   ]
  },
  {
   "cell_type": "code",
   "execution_count": 4,
   "id": "ce0617ef",
   "metadata": {},
   "outputs": [
    {
     "data": {
      "text/plain": [
       "Province/State\n",
       "Australian Capital Territory    773\n",
       "Yunnan                          773\n",
       "Mayotte                         773\n",
       "Martinique                      773\n",
       "Guadeloupe                      773\n",
       "                               ... \n",
       "Guangdong                       773\n",
       "Gansu                           773\n",
       "Fujian                          773\n",
       "Chongqing                       773\n",
       "Turks and Caicos Islands        773\n",
       "Name: count, Length: 85, dtype: int64"
      ]
     },
     "execution_count": 4,
     "metadata": {},
     "output_type": "execute_result"
    }
   ],
   "source": [
    "df['Province/State'].value_counts()"
   ]
  },
  {
   "cell_type": "code",
   "execution_count": 5,
   "id": "aa3ad8a3",
   "metadata": {},
   "outputs": [
    {
     "data": {
      "text/plain": [
       "214894"
      ]
     },
     "execution_count": 5,
     "metadata": {},
     "output_type": "execute_result"
    }
   ],
   "source": [
    "df['Province/State'].isna().count()"
   ]
  },
  {
   "cell_type": "code",
   "execution_count": 6,
   "id": "7d7a43bc",
   "metadata": {},
   "outputs": [
    {
     "data": {
      "text/plain": [
       "(214894,)"
      ]
     },
     "execution_count": 6,
     "metadata": {},
     "output_type": "execute_result"
    }
   ],
   "source": [
    "df['Province/State'].shape"
   ]
  },
  {
   "cell_type": "code",
   "execution_count": 7,
   "id": "75732fe3",
   "metadata": {
    "scrolled": true
   },
   "outputs": [
    {
     "data": {
      "text/html": [
       "<div>\n",
       "<style scoped>\n",
       "    .dataframe tbody tr th:only-of-type {\n",
       "        vertical-align: middle;\n",
       "    }\n",
       "\n",
       "    .dataframe tbody tr th {\n",
       "        vertical-align: top;\n",
       "    }\n",
       "\n",
       "    .dataframe thead th {\n",
       "        text-align: right;\n",
       "    }\n",
       "</style>\n",
       "<table border=\"1\" class=\"dataframe\">\n",
       "  <thead>\n",
       "    <tr style=\"text-align: right;\">\n",
       "      <th></th>\n",
       "      <th>Lat</th>\n",
       "      <th>Long</th>\n",
       "      <th>Confirmed</th>\n",
       "      <th>Deaths</th>\n",
       "      <th>Recovered</th>\n",
       "      <th>Active</th>\n",
       "    </tr>\n",
       "  </thead>\n",
       "  <tbody>\n",
       "    <tr>\n",
       "      <th>count</th>\n",
       "      <td>213348.000000</td>\n",
       "      <td>213348.000000</td>\n",
       "      <td>2.148940e+05</td>\n",
       "      <td>214894.000000</td>\n",
       "      <td>2.148940e+05</td>\n",
       "      <td>2.148940e+05</td>\n",
       "    </tr>\n",
       "    <tr>\n",
       "      <th>mean</th>\n",
       "      <td>20.528131</td>\n",
       "      <td>22.735337</td>\n",
       "      <td>4.578132e+05</td>\n",
       "      <td>9310.764693</td>\n",
       "      <td>1.079987e+05</td>\n",
       "      <td>3.405037e+05</td>\n",
       "    </tr>\n",
       "    <tr>\n",
       "      <th>std</th>\n",
       "      <td>25.899139</td>\n",
       "      <td>76.304185</td>\n",
       "      <td>2.708770e+06</td>\n",
       "      <td>47497.835275</td>\n",
       "      <td>8.470111e+05</td>\n",
       "      <td>2.516382e+06</td>\n",
       "    </tr>\n",
       "    <tr>\n",
       "      <th>min</th>\n",
       "      <td>-71.949900</td>\n",
       "      <td>-178.116500</td>\n",
       "      <td>0.000000e+00</td>\n",
       "      <td>0.000000</td>\n",
       "      <td>0.000000e+00</td>\n",
       "      <td>-1.638280e+05</td>\n",
       "    </tr>\n",
       "    <tr>\n",
       "      <th>25%</th>\n",
       "      <td>6.426991</td>\n",
       "      <td>-27.932425</td>\n",
       "      <td>2.530000e+02</td>\n",
       "      <td>2.000000</td>\n",
       "      <td>0.000000e+00</td>\n",
       "      <td>1.600000e+01</td>\n",
       "    </tr>\n",
       "    <tr>\n",
       "      <th>50%</th>\n",
       "      <td>22.233350</td>\n",
       "      <td>21.752000</td>\n",
       "      <td>5.223000e+03</td>\n",
       "      <td>71.000000</td>\n",
       "      <td>4.500000e+01</td>\n",
       "      <td>1.243000e+03</td>\n",
       "    </tr>\n",
       "    <tr>\n",
       "      <th>75%</th>\n",
       "      <td>41.166070</td>\n",
       "      <td>88.658375</td>\n",
       "      <td>9.892275e+04</td>\n",
       "      <td>1675.000000</td>\n",
       "      <td>5.115750e+03</td>\n",
       "      <td>2.644675e+04</td>\n",
       "    </tr>\n",
       "    <tr>\n",
       "      <th>max</th>\n",
       "      <td>71.706900</td>\n",
       "      <td>178.065000</td>\n",
       "      <td>7.925051e+07</td>\n",
       "      <td>958144.000000</td>\n",
       "      <td>3.097475e+07</td>\n",
       "      <td>7.829236e+07</td>\n",
       "    </tr>\n",
       "  </tbody>\n",
       "</table>\n",
       "</div>"
      ],
      "text/plain": [
       "                 Lat           Long     Confirmed         Deaths  \\\n",
       "count  213348.000000  213348.000000  2.148940e+05  214894.000000   \n",
       "mean       20.528131      22.735337  4.578132e+05    9310.764693   \n",
       "std        25.899139      76.304185  2.708770e+06   47497.835275   \n",
       "min       -71.949900    -178.116500  0.000000e+00       0.000000   \n",
       "25%         6.426991     -27.932425  2.530000e+02       2.000000   \n",
       "50%        22.233350      21.752000  5.223000e+03      71.000000   \n",
       "75%        41.166070      88.658375  9.892275e+04    1675.000000   \n",
       "max        71.706900     178.065000  7.925051e+07  958144.000000   \n",
       "\n",
       "          Recovered        Active  \n",
       "count  2.148940e+05  2.148940e+05  \n",
       "mean   1.079987e+05  3.405037e+05  \n",
       "std    8.470111e+05  2.516382e+06  \n",
       "min    0.000000e+00 -1.638280e+05  \n",
       "25%    0.000000e+00  1.600000e+01  \n",
       "50%    4.500000e+01  1.243000e+03  \n",
       "75%    5.115750e+03  2.644675e+04  \n",
       "max    3.097475e+07  7.829236e+07  "
      ]
     },
     "execution_count": 7,
     "metadata": {},
     "output_type": "execute_result"
    }
   ],
   "source": [
    "df.describe()"
   ]
  },
  {
   "cell_type": "code",
   "execution_count": 8,
   "id": "71b64aa7",
   "metadata": {},
   "outputs": [
    {
     "data": {
      "text/plain": [
       "(214894, 10)"
      ]
     },
     "execution_count": 8,
     "metadata": {},
     "output_type": "execute_result"
    }
   ],
   "source": [
    "df.shape"
   ]
  },
  {
   "cell_type": "code",
   "execution_count": 9,
   "id": "c3ea134e",
   "metadata": {},
   "outputs": [
    {
     "data": {
      "text/plain": [
       "dtype('O')"
      ]
     },
     "execution_count": 9,
     "metadata": {},
     "output_type": "execute_result"
    }
   ],
   "source": [
    "df['Province/State'].dtype"
   ]
  },
  {
   "cell_type": "code",
   "execution_count": 10,
   "id": "64936cf8",
   "metadata": {},
   "outputs": [
    {
     "data": {
      "text/plain": [
       "pandas.core.series.Series"
      ]
     },
     "execution_count": 10,
     "metadata": {},
     "output_type": "execute_result"
    }
   ],
   "source": [
    "type(df['Province/State'])"
   ]
  },
  {
   "cell_type": "code",
   "execution_count": 11,
   "id": "f94472a1",
   "metadata": {},
   "outputs": [
    {
     "data": {
      "text/plain": [
       "pandas.core.frame.DataFrame"
      ]
     },
     "execution_count": 11,
     "metadata": {},
     "output_type": "execute_result"
    }
   ],
   "source": [
    "type(df)"
   ]
  },
  {
   "cell_type": "code",
   "execution_count": 12,
   "id": "35e32a25",
   "metadata": {},
   "outputs": [
    {
     "name": "stdout",
     "output_type": "stream",
     "text": [
      "<class 'pandas.core.frame.DataFrame'>\n",
      "RangeIndex: 214894 entries, 0 to 214893\n",
      "Data columns (total 10 columns):\n",
      " #   Column          Non-Null Count   Dtype  \n",
      "---  ------          --------------   -----  \n",
      " 0   Province/State  65705 non-null   object \n",
      " 1   Country/Region  214894 non-null  object \n",
      " 2   Lat             213348 non-null  float64\n",
      " 3   Long            213348 non-null  float64\n",
      " 4   Date            214894 non-null  object \n",
      " 5   Confirmed       214894 non-null  int64  \n",
      " 6   Deaths          214894 non-null  int64  \n",
      " 7   Recovered       214894 non-null  int64  \n",
      " 8   Active          214894 non-null  int64  \n",
      " 9   WHO Region      212575 non-null  object \n",
      "dtypes: float64(2), int64(4), object(4)\n",
      "memory usage: 16.4+ MB\n"
     ]
    }
   ],
   "source": [
    "df.info()"
   ]
  },
  {
   "cell_type": "code",
   "execution_count": 13,
   "id": "c07b10e5",
   "metadata": {},
   "outputs": [],
   "source": [
    "df['Country/Region']=df['Country/Region'].astype('string')\n",
    "df['WHO Region']=df['WHO Region'].astype('string')"
   ]
  },
  {
   "cell_type": "code",
   "execution_count": 14,
   "id": "611d6c3d",
   "metadata": {},
   "outputs": [],
   "source": [
    "df['Date']=pd.to_datetime(df['Date'])"
   ]
  },
  {
   "cell_type": "code",
   "execution_count": 15,
   "id": "6c48b441",
   "metadata": {
    "scrolled": true
   },
   "outputs": [
    {
     "data": {
      "text/plain": [
       "Province/State            object\n",
       "Country/Region    string[python]\n",
       "Lat                      float64\n",
       "Long                     float64\n",
       "Date              datetime64[ns]\n",
       "Confirmed                  int64\n",
       "Deaths                     int64\n",
       "Recovered                  int64\n",
       "Active                     int64\n",
       "WHO Region        string[python]\n",
       "dtype: object"
      ]
     },
     "execution_count": 15,
     "metadata": {},
     "output_type": "execute_result"
    }
   ],
   "source": [
    "df.dtypes"
   ]
  },
  {
   "cell_type": "code",
   "execution_count": 17,
   "id": "8a73f543",
   "metadata": {},
   "outputs": [
    {
     "data": {
      "text/plain": [
       "<StringArray>\n",
       "['Eastern Mediterranean',                'Europe',                'Africa',\n",
       "                    <NA>,              'Americas',       'Western Pacific',\n",
       "       'South-East Asia']\n",
       "Length: 7, dtype: string"
      ]
     },
     "execution_count": 17,
     "metadata": {},
     "output_type": "execute_result"
    }
   ],
   "source": [
    "df['WHO Region'].unique()"
   ]
  },
  {
   "cell_type": "code",
   "execution_count": 18,
   "id": "0825b157",
   "metadata": {},
   "outputs": [
    {
     "data": {
      "text/plain": [
       "WHO Region\n",
       "Europe                   64159\n",
       "Western Pacific          50245\n",
       "Americas                 37104\n",
       "Africa                   36331\n",
       "Eastern Mediterranean    17006\n",
       "South-East Asia           7730\n",
       "Name: count, dtype: Int64"
      ]
     },
     "execution_count": 18,
     "metadata": {},
     "output_type": "execute_result"
    }
   ],
   "source": [
    "df['WHO Region'].value_counts()"
   ]
  },
  {
   "cell_type": "code",
   "execution_count": 19,
   "id": "24dcaaf3",
   "metadata": {},
   "outputs": [
    {
     "data": {
      "text/plain": [
       "string[python]"
      ]
     },
     "execution_count": 19,
     "metadata": {},
     "output_type": "execute_result"
    }
   ],
   "source": [
    "df['WHO Region'].dtype"
   ]
  },
  {
   "cell_type": "code",
   "execution_count": 29,
   "id": "ba40af39",
   "metadata": {},
   "outputs": [
    {
     "data": {
      "text/plain": [
       "2319"
      ]
     },
     "execution_count": 29,
     "metadata": {},
     "output_type": "execute_result"
    }
   ],
   "source": [
    "df['WHO Region'].isna().sum()"
   ]
  },
  {
   "cell_type": "code",
   "execution_count": 31,
   "id": "b1fb3879",
   "metadata": {},
   "outputs": [
    {
     "data": {
      "text/plain": [
       "WHO Region\n",
       "False    212575\n",
       "True       2319\n",
       "Name: count, dtype: int64"
      ]
     },
     "execution_count": 31,
     "metadata": {},
     "output_type": "execute_result"
    }
   ],
   "source": [
    "df['WHO Region'].isna().value_counts()"
   ]
  },
  {
   "cell_type": "code",
   "execution_count": null,
   "id": "ecc90faf",
   "metadata": {},
   "outputs": [],
   "source": []
  }
 ],
 "metadata": {
  "kernelspec": {
   "display_name": "Python 3 (ipykernel)",
   "language": "python",
   "name": "python3"
  },
  "language_info": {
   "codemirror_mode": {
    "name": "ipython",
    "version": 3
   },
   "file_extension": ".py",
   "mimetype": "text/x-python",
   "name": "python",
   "nbconvert_exporter": "python",
   "pygments_lexer": "ipython3",
   "version": "3.11.5"
  }
 },
 "nbformat": 4,
 "nbformat_minor": 5
}
