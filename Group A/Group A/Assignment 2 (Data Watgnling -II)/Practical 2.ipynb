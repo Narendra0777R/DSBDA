{
 "cells": [
  {
   "cell_type": "markdown",
   "id": "e914a2cd",
   "metadata": {},
   "source": [
    "Practical 2 :  Data Wrangling II \n",
    "Create an “Academic performance” dataset of students and perform the following operations using \n",
    "Python. \n",
    " \n",
    "1. Scan all variables for missing values and inconsistencies. If there are missing values and/or \n",
    "inconsistencies, use any of the suitable techniques to deal with them.   \n",
    "2. Scan all numeric variables for outliers. If there are outliers, use any of the suitable \n",
    "techniques to deal with them.  \n",
    "3. Apply data transformations on at least one of the variables. The purpose of this \n",
    "transformation should be one of the following reasons: to change the scale for better \n",
    "understanding of the variable, to convert a non-linear relation into a linear one, or to \n",
    "decrease the skewness and convert the distribution into a normal distribution.  \n",
    " \n",
    "Reason and document your approach properly."
   ]
  },
  {
   "cell_type": "code",
   "execution_count": null,
   "id": "02c77c11",
   "metadata": {},
   "outputs": [],
   "source": []
  }
 ],
 "metadata": {
  "kernelspec": {
   "display_name": "Python 3 (ipykernel)",
   "language": "python",
   "name": "python3"
  },
  "language_info": {
   "codemirror_mode": {
    "name": "ipython",
    "version": 3
   },
   "file_extension": ".py",
   "mimetype": "text/x-python",
   "name": "python",
   "nbconvert_exporter": "python",
   "pygments_lexer": "ipython3",
   "version": "3.11.5"
  }
 },
 "nbformat": 4,
 "nbformat_minor": 5
}
